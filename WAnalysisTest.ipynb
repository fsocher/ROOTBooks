{
 "cells": [
  {
   "cell_type": "markdown",
   "metadata": {},
   "source": [
    "Welcome to the W-analysis ROOTbook. Here we will show an example using a minimal amount of code for analysing a set of datasets holding simulated and measured data. The code is geared towards simplicity and the consequences of this approach will be pointed out where they apply and will be stated in comments in the code itself.\n",
    "\n",
    "The analysis presented here is designed to select events containing a lepton-neutrino pair stemming from a single W boson. This is one of the more abundant processes found at the LHC.\n",
    "In order to do this we are going to select events with one well identified charged lepton (more specifically a muon so there is less QCD background) and missing transverse momentum which indicates the presence of a neutrino. Furthermore we will deduct some information on the W boson from the measured quantities and use that for selection purposes by calculating the so-called transverse mass of the W boson.\n",
    "\n",
    "To start we will introduce some utility function to make our live easier."
   ]
  },
  {
   "cell_type": "code",
   "execution_count": 1,
   "metadata": {
    "collapsed": false
   },
   "outputs": [],
   "source": [
    "%%cpp -d\n",
    "// Here, we define a function which takes a histogram and puts it in a map so that we can have\n",
    "// container which links a certain string to a given histogram.\n",
    "// This function is not entirely necessary but enables us to register a new histogram in\n",
    "// one line.\n",
    "TH1F* addHistogram(std::map<std::string, TH1F*>& histograms, TH1F* histogram){\n",
    "    histograms[histogram->GetName()] = histogram;\n",
    "    return histogram;\n",
    "}"
   ]
  },
  {
   "cell_type": "markdown",
   "metadata": {},
   "source": [
    "This function takes the url where the ROOT-file for a given dataset is stored, opens the file and extracts the \n",
    "relevant information for data analysis. The switch isMC is needed because measured data is treated slightly \n",
    "differently than simulated data. The parameter lumiWeight stores a factor which translates the number of events \n",
    "selected from the dataset to the number of events one would expect for the simulated process in a sample with\n",
    "a certain luminosity."
   ]
  },
  {
   "cell_type": "code",
   "execution_count": 2,
   "metadata": {
    "collapsed": false
   },
   "outputs": [],
   "source": [
    "%%cpp -d\n",
    "\n",
    "// The result of this function is a map std::string -> histogram (TH1F*) which is used later for drawing the results\n",
    "std::map<std::string, TH1F*> doAnalysis(std::string FileInputLocation, bool isMC, Double_t lumiWeight){\n",
    "// Options\n",
    "Float_t fraction = 0.1;  // This value can be adjusted so that one does not run over all the data, speeds things up\n",
    "\n",
    "// Here we take the location of the data file and extract the TTree holding the information inside it    \n",
    "TChain *InputSignal = new TChain(\"mini\");\n",
    "InputSignal->Add(FileInputLocation.c_str());\n",
    "    \n",
    "// These are the variables associated with the charged leptons in the tuple.\n",
    "// It is usually not good to pair two instructions one one line but I felt that it illustrates the connection\n",
    "// between the variables and how they are tied to the information in the TTree via the SetBranchAddress method more clearly\n",
    "Int_t   lep_n;                    InputSignal->SetBranchAddress(\"lep_n\",                 &lep_n);\n",
    "Float_t lep_pt[5];                InputSignal->SetBranchAddress(\"lep_pt\",                &lep_pt);\n",
    "Float_t lep_eta[5];               InputSignal->SetBranchAddress(\"lep_eta\",               &lep_eta);\n",
    "Float_t lep_phi[5];               InputSignal->SetBranchAddress(\"lep_phi\",               &lep_phi);\n",
    "Float_t lep_E[5];                 InputSignal->SetBranchAddress(\"lep_E\",                 &lep_E);\n",
    "Int_t   lep_type[5];              InputSignal->SetBranchAddress(\"lep_type\",              &lep_type);\n",
    "Int_t   lep_flag[5];              InputSignal->SetBranchAddress(\"lep_flag\",              &lep_flag);\n",
    "Float_t lep_charge[5];            InputSignal->SetBranchAddress(\"lep_charge\",            &lep_charge);\n",
    "Float_t lep_etcone20[5];          InputSignal->SetBranchAddress(\"lep_etcone20\",          &lep_etcone20);\n",
    "Float_t lep_ptcone30[5];          InputSignal->SetBranchAddress(\"lep_ptcone30\",          &lep_ptcone30);\n",
    "Float_t lep_z0[5];                InputSignal->SetBranchAddress(\"lep_z0\",                &lep_z0);\n",
    "Float_t lep_d0[5];                InputSignal->SetBranchAddress(\"lep_trackd0pvunbiased\", &lep_d0);\n",
    "\n",
    "// These are the necessary variables associated with the missing transverse momentum which is our \n",
    "// best way of measuring the properties of particles that escaped detection (e.g. neutrinos)\n",
    "Float_t met_et;                   InputSignal->SetBranchAddress(\"met_et\",   &met_et);\n",
    "Float_t met_phi;                  InputSignal->SetBranchAddress(\"met_phi\",  &met_phi);\n",
    "\n",
    "// The pile-up scale factor is needed to correct for different conditions during proton-proton collisions\n",
    "// between the simulated and measured data.\n",
    "Float_t ScaleFactor_PILEUP;\n",
    "\n",
    "// The mcWeight is a number used in simulations\n",
    "Float_t mcWeight;\n",
    "\n",
    "// as said, some variables are stored differently in measured and simulated data.\n",
    "// In measured data both mcWeight and scaleFactor_PILEUP are set to zero, so we have to set them to 1 manually\n",
    "if (isMC){\n",
    "  InputSignal->SetBranchAddress(\"mcWeight\",   &mcWeight);\n",
    "  InputSignal->SetBranchAddress(\"scaleFactor_PILEUP\",   &ScaleFactor_PILEUP);\n",
    "}\n",
    "else{\n",
    "    mcWeight = 1.0;\n",
    "    ScaleFactor_PILEUP = 1.0;   \n",
    "}\n",
    "        \n",
    "// Here we start declaring some histograms and put them into the map of histograms which is the output of this function\n",
    "std::map<std::string, TH1F*> histograms;\n",
    "// please refer to the documentation of TH1F to find out about creation of these objects (google TH1F)\n",
    "TH1F* hist_lep_pt  = addHistogram(histograms, new TH1F(\"h_lep_pt\",\"Transverse Momentum Lepton;Lepton pt [GeV]\"  ,20,0,200));\n",
    "TH1F* hist_lep_eta = addHistogram(histograms, new TH1F(\"h_lep_eta\",\"Pseudo Rapidity Lepton;Lepton #eta\",25,-2.5,2.5));\n",
    "TH1F* hist_etmiss  = addHistogram(histograms, new TH1F(\"h_etmiss\",\"Missing Transverse Momentum;MET [GeV]\"  ,20,0,200));\n",
    "TH1F* hist_wtmass  = addHistogram(histograms, new TH1F(\"h_wtmass\",\"W Boson Transverse Mass;WTMass [GeV]\"  ,30,40,160));\n",
    "\n",
    "\n",
    "// This concludes our setup phase. Now we can start looping over the events in the samples.\n",
    "Int_t nEvents = Int_t(InputSignal->GetEntries()*fraction);\n",
    "std::cout << \" Number of entries  \" << nEvents << endl;\n",
    "\n",
    "Int_t PassedEvents = 0;\n",
    "for (int i = 0; i < nEvents ;++i) {\n",
    "  // read in the information for the event at hand\n",
    "  InputSignal->GetEntry(i);\n",
    "    \n",
    "  // First thing is to check that we only have one good lepton (as required)\n",
    "  Int_t nGoodLeptons = 0;\n",
    "  Int_t gLI = 0;\n",
    "  // We check each lepton whether it satisfies certain criteria\n",
    "  for (int j = 0; j < lep_n; ++j){\n",
    "    if (lep_type[j] != 13) continue;                   // This ensures that the lepton is a muon (13) (electron is 11)\n",
    "    if (bool(lep_flag[j] & 512) == false) continue;    // This ensures that the lepton is well measured (a bit cryptic...)\n",
    "    if (lep_pt[j] < 25000) continue;                   // The lepton has to have a transverse momentum > 25 GeV\n",
    "    if (lep_eta[j] > 2.5)  continue;                   // The lepton has to lie within the range were tracking is available\n",
    "    if (lep_etcone20[j]/lep_pt[j] > 0.1) continue;     // the lepton should be well isolated\n",
    "    if (lep_ptcone30[j]/lep_pt[j] > 0.1) continue;\n",
    "    nGoodLeptons++;\n",
    "    gLI = j;\n",
    "  }\n",
    "    \n",
    "  // more or less than one good lepton would indicate other processes, so these are vetoed\n",
    "  if (nGoodLeptons != 1) continue;\n",
    "    \n",
    "  // Next we want to know whether the transverse mass of the W candidate defined by the charged lepton and the missing\n",
    "  // transverse momentum is ok. For this we have to calculate the transverse mass first\n",
    "  TLorentzVector Lepton = TLorentzVector();\n",
    "  TLorentzVector MET    = TLorentzVector();\n",
    "    \n",
    "  // The factors 0.001 are used to convert the pt-information stored in MeV to GeV which is easier to use\n",
    "  Lepton.SetPtEtaPhiE(lep_pt[gLI]*0.001, lep_eta[gLI], lep_phi[gLI], lep_E[gLI]*0.001);\n",
    "  MET.SetPtEtaPhiE(met_et*0.001, 0, met_phi, met_et*0.001);\n",
    "    \n",
    "  Float_t TransMass = TMath::Sqrt(2*Lepton.Pt()*MET.Pt()*(1-TMath::Cos(Lepton.DeltaPhi(MET))));        \n",
    "    \n",
    "  // Now, we check the requirements for the selection one by one\n",
    "  if (TransMass < 30 ) continue;\n",
    "  if (MET.Pt()  < 30 ) continue;\n",
    "    \n",
    "  // If everything is ok, we can fill the histograms\n",
    "  PassedEvents++;\n",
    "  hist_lep_pt->Fill(Lepton.Pt(), mcWeight*lumiWeight*ScaleFactor_PILEUP);\n",
    "  hist_lep_eta->Fill(Lepton.Eta(), mcWeight*lumiWeight*ScaleFactor_PILEUP);\n",
    "  hist_etmiss->Fill(MET.Pt(), mcWeight*lumiWeight*ScaleFactor_PILEUP);\n",
    "  hist_wtmass->Fill(TransMass, mcWeight*lumiWeight*ScaleFactor_PILEUP);\n",
    "}\n",
    "\n",
    "std::cout << \" Passed Events: \" << PassedEvents << std::endl;\n",
    "\n",
    "return histograms;\n",
    "}"
   ]
  },
  {
   "cell_type": "markdown",
   "metadata": {},
   "source": [
    "The function we just wrote encapsulates the whole analysis logic. Adding or removing samples from our selection is now \n",
    "very easy as can be seen in the next cell. There we will analyse a string of samples of simulated events and register \n",
    "the obtained histograms in a map. If we want to add a new sample we can do so in one line."
   ]
  },
  {
   "cell_type": "code",
   "execution_count": 3,
   "metadata": {
    "collapsed": false
   },
   "outputs": [
    {
     "name": "stdout",
     "output_type": "stream",
     "text": [
      " Number of entries  75000\n",
      " Passed Events: 51101\n",
      " Number of entries  250000\n",
      " Passed Events: 160909\n",
      " Number of entries  750000\n",
      " Passed Events: 524825\n",
      " Number of entries  750000\n",
      " Passed Events: 141950\n",
      " Number of entries  702808\n",
      " Passed Events: 362428\n"
     ]
    }
   ],
   "source": [
    "// This is just here to get rid of some warnings\n",
    "TH1::AddDirectory(kFALSE);\n",
    "\n",
    "std::map<std::string, std::map<std::string,TH1F*>> processHistogramsMap;\n",
    "processHistogramsMap[\"WMunuWithB\"]       = doAnalysis(\"http://atlas-opendata.web.cern.ch/atlas-opendata/release/samples/MC/mc_167743.WmunuWithB.root\", true, 0.289);\n",
    "processHistogramsMap[\"WmunuJetsBVeto\"]   = doAnalysis(\"http://atlas-opendata.web.cern.ch/atlas-opendata/release/samples/MC/mc_167744.WmunuJetsBVeto.root\", true, 0.328);\n",
    "processHistogramsMap[\"WmunuNoJetsBVeto\"] = doAnalysis(\"http://atlas-opendata.web.cern.ch/atlas-opendata/release/samples/MC/mc_167745.WmunuNoJetsBVeto.root\", true, 1.0417);\n",
    "processHistogramsMap[\"Zmumu\"]            = doAnalysis(\"http://atlas-opendata.web.cern.ch/atlas-opendata/release/samples/MC/mc_147771.Zmumu.root\", true, 0.0000000441759);\n",
    "\n",
    "auto dataHists = doAnalysis(\"http://atlas-opendata.web.cern.ch/atlas-opendata/release/samples/Data/DataMuons.root\", false, 1.0);"
   ]
  },
  {
   "cell_type": "markdown",
   "metadata": {},
   "source": [
    "The following function is used to make a unified depiction of the simulated data in the form of a stack of contributions. Right now we have a map of processes and their histograms looking like this:\n",
    "Process1 -> histogram_name1 -> histogram11\n",
    "         -> histogram_name2 -> histogram12\n",
    "Process2 -> histogram_name1 -> histogram21\n",
    "         -> histogram_name2 -> histogram22\n",
    "\n",
    "Now we are going to make stacks for each histogram (e.g. lep_pt) showing the individual contributions by the processes."
   ]
  },
  {
   "cell_type": "code",
   "execution_count": 4,
   "metadata": {
    "collapsed": false
   },
   "outputs": [],
   "source": [
    "%%cpp -d\n",
    "std::map<std::string, THStack*> makeStacks(std::map<std::string, std::map<std::string, TH1F*>> processHistograms, std::map<std::string, Int_t> colours){\n",
    "  // first we make a map of the histogram name linking to the final stack we want to have\n",
    "  std::map<std::string, THStack*> stacks;\n",
    "\n",
    "  // now, we loop over all processes and combine the information for the different histograms into stacks\n",
    "  for(auto &process : processHistograms) {\n",
    "     for (auto &histogram : process.second) {\n",
    "       // We create the stack if it is not available yet\n",
    "       if (stacks.find(histogram.first) == stacks.end()){\n",
    "          auto stack = new THStack();\n",
    "          stacks[histogram.first] = stack;\n",
    "\n",
    "       }\n",
    "       // we adjust the colouring for each process and add it to the stack\n",
    "       histogram.second->SetFillColor(colours[process.first]);\n",
    "       stacks[histogram.first]->Add(histogram.second);\n",
    "     }\n",
    "  }\n",
    "    \n",
    "  return stacks;\n",
    "}"
   ]
  },
  {
   "cell_type": "markdown",
   "metadata": {},
   "source": [
    "We just saw that we want to have certain colours for our processses. These are defined in the next cell."
   ]
  },
  {
   "cell_type": "code",
   "execution_count": 5,
   "metadata": {
    "collapsed": true
   },
   "outputs": [],
   "source": [
    "std::map< std::string, Int_t> colours;\n",
    "colours[\"WMunuWithB\"]       = kBlue;\n",
    "colours[\"WmunuJetsBVeto\"]   = kBlue;\n",
    "colours[\"WmunuNoJetsBVeto\"] = kBlue;\n",
    "colours[\"Zmumu\"] = kGreen;"
   ]
  },
  {
   "cell_type": "markdown",
   "metadata": {},
   "source": [
    "Now we have the individual stacks. We want to compare this to the measured data. To make things easier in the long run \n",
    "we decide to write another function which details how the individual depcitions should be drawn."
   ]
  },
  {
   "cell_type": "code",
   "execution_count": 6,
   "metadata": {
    "collapsed": false
   },
   "outputs": [],
   "source": [
    "%%cpp -d\n",
    "TCanvas* paintCanvas(TCanvas* canvas, Int_t index, std::string key, std::map<std::string, THStack*>& stacksMap, std::map<std::string, TH1F*> dataHists){\n",
    "  // we go to the given index in the canvas\n",
    "  canvas->cd(index);\n",
    "\n",
    "  // we get the histogram for the measured data according to the provided key and style it a bit\n",
    "  auto dataHist = dataHists[key];\n",
    "  dataHist->SetLineColor(kBlack);\n",
    "  dataHist->SetMarkerColor(kBlack);\n",
    "  dataHist->SetLineWidth(1);\n",
    "\n",
    "  // we get the stack for the given key and draw everything\n",
    "  auto stack = stacksMap[key];\n",
    "  dataHist->Draw(\"E\");\n",
    "  stack->Draw(\"HISTsame\");\n",
    "  dataHist->Draw(\"Esame\");\n",
    "  return canvas;\n",
    "}"
   ]
  },
  {
   "cell_type": "markdown",
   "metadata": {},
   "source": [
    "Using these functions we can now draw everything in a compact way:"
   ]
  },
  {
   "cell_type": "code",
   "execution_count": 7,
   "metadata": {
    "collapsed": false,
    "scrolled": true
   },
   "outputs": [
    {
     "data": {
      "image/png": "[encoded data removed]",
      "text/plain": [
       "<IPython.core.display.Image object>"
      ]
     },
     "metadata": {},
     "output_type": "display_data"
    }
   ],
   "source": [
    "// We set up the canvas which holds the individual depictions\n",
    "TCanvas *c1a = new TCanvas(\"canvas1\",\"canvas1\",50,50,800,600);\n",
    "c1a->SetFillColor(0);\n",
    "gStyle->SetOptStat(0);\n",
    "c1a->Divide(2,2);\n",
    "\n",
    "// We build the individual stacks\n",
    "stacksMap = makeStacks(processHistogramsMap, colours); \n",
    "\n",
    "// and paint everything\n",
    "c1a = paintCanvas(c1a, 1, \"h_lep_pt\", stacksMap, dataHists);\n",
    "c1a = paintCanvas(c1a, 2, \"h_lep_eta\", stacksMap, dataHists);\n",
    "c1a = paintCanvas(c1a, 3, \"h_etmiss\", stacksMap, dataHists);\n",
    "c1a = paintCanvas(c1a, 4, \"h_wtmass\", stacksMap, dataHists);\n",
    "c1a->Draw();"
   ]
  },
  {
   "cell_type": "markdown",
   "metadata": {
    "collapsed": false
   },
   "source": [
    "And now we are done!"
   ]
  },
  {
   "cell_type": "code",
   "execution_count": null,
   "metadata": {
    "collapsed": true
   },
   "outputs": [],
   "source": []
  }
 ],
 "metadata": {
  "kernelspec": {
   "display_name": "ROOT C++",
   "language": "c++",
   "name": "root"
  },
  "language_info": {
   "codemirror_mode": "text/x-c++src",
   "file_extension": ".C",
   "mimetype": " text/x-c++src",
   "name": "c++"
  }
 },
 "nbformat": 4,
 "nbformat_minor": 0
}
